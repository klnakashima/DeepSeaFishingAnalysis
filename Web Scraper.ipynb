{
 "cells": [
  {
   "cell_type": "code",
   "execution_count": 1,
   "metadata": {},
   "outputs": [],
   "source": [
    "# IMPORTS\n",
    "import requests\n",
    "from bs4 import BeautifulSoup\n",
    "import pandas as pd\n",
    "from datetime import date"
   ]
  },
  {
   "cell_type": "code",
   "execution_count": 2,
   "metadata": {},
   "outputs": [],
   "source": [
    "# VARIABLES\n",
    "landings = [\"daveys-locker\",\"dana-wharf-sportfishing\"]\n",
    "landingID = {\"daveys-locker\":\"16\",\"dana-wharf-sportfishing\":\"17\"}\n",
    "url = \"https://www.sportfishingreport.com/landings/\"\n",
    "# URL FORMATS = https://www.sportfishingreport.com/landings/daveys-locker.php?landing_id=16&year=2020&month=6&day=5\n",
    "#         or   https://www.sportfishingreport.com/landings/dana-wharf-sportfishing.php?landing_id=17&year=2019&month=1&day=1\n",
    "start_date = date(2019,1,1)\n",
    "end_date = date(2020,10,28)\n",
    "dateRange = pd.date_range(start_date, end_date)"
   ]
  },
  {
   "cell_type": "code",
   "execution_count": 3,
   "metadata": {},
   "outputs": [],
   "source": [
    "df = pd.DataFrame(columns=[\"Landing\",\"Date\",\"Boat\",\"Trip Type\",\"Anglers\",\"Fish Count\"])"
   ]
  },
  {
   "cell_type": "code",
   "execution_count": 4,
   "metadata": {},
   "outputs": [
    {
     "name": "stdout",
     "output_type": "stream",
     "text": [
      "2019-1-1\n",
      "2019-2-1\n",
      "2019-3-1\n",
      "2019-4-1\n",
      "2019-5-1\n",
      "2019-6-1\n",
      "2019-7-1\n",
      "2019-8-1\n",
      "2019-9-1\n",
      "2019-10-1\n",
      "2019-11-1\n",
      "2019-12-1\n",
      "2020-1-1\n",
      "2020-2-1\n",
      "2020-3-1\n",
      "2020-4-1\n",
      "2020-5-1\n",
      "2020-6-1\n",
      "2020-7-1\n",
      "2020-8-1\n",
      "2020-9-1\n",
      "2020-10-1\n",
      "2019-1-1\n",
      "2019-2-1\n",
      "2019-3-1\n",
      "2019-4-1\n",
      "2019-5-1\n",
      "2019-6-1\n",
      "2019-7-1\n",
      "2019-8-1\n",
      "2019-9-1\n",
      "2019-10-1\n",
      "2019-11-1\n",
      "2019-12-1\n",
      "2020-1-1\n",
      "2020-2-1\n",
      "2020-3-1\n",
      "2020-4-1\n",
      "2020-5-1\n",
      "2020-6-1\n",
      "2020-7-1\n",
      "2020-8-1\n",
      "2020-9-1\n",
      "2020-10-1\n"
     ]
    }
   ],
   "source": [
    "# loop over landings\n",
    "for landing in landings:\n",
    "    # loop over dates\n",
    "    for date in dateRange:\n",
    "        # get specific date url\n",
    "        result = requests.get(url + landing + \".php?\" + \"&year=\" + str(date.year) +\n",
    "                             \"&month=\" + str(date.month) + \"&day=\" + str(date.day))\n",
    "        # check for valid html return status\n",
    "        if(result.status_code == 200):\n",
    "            # get src\n",
    "            src = result.content\n",
    "            soup = BeautifulSoup(src,'lxml')\n",
    "            # read in \"td\" tags\n",
    "            links = soup.find_all(\"td\")\n",
    "            i=1\n",
    "            while(True):\n",
    "                if(\"Dock Totals\" in links[i*4+1].text):\n",
    "                    break\n",
    "                else:\n",
    "                    df = df.append({\"Landing\":landing,\"Date\":date.strftime(\"%Y-%m-%d\"),\n",
    "                                    \"Boat\":links[i*4+1].text,\"Trip Type\":links[i*4+2].text,\n",
    "                                    \"Anglers\":links[i*4+3].text,\"Fish Count\":links[i*4+4].text}, ignore_index=True)\n",
    "                    i += 1\n",
    "            if date.day == 1:\n",
    "                print(date.strftime(\"%Y-%#m-%#d\"))"
   ]
  },
  {
   "cell_type": "code",
   "execution_count": 5,
   "metadata": {},
   "outputs": [
    {
     "data": {
      "text/html": [
       "<div>\n",
       "<style scoped>\n",
       "    .dataframe tbody tr th:only-of-type {\n",
       "        vertical-align: middle;\n",
       "    }\n",
       "\n",
       "    .dataframe tbody tr th {\n",
       "        vertical-align: top;\n",
       "    }\n",
       "\n",
       "    .dataframe thead th {\n",
       "        text-align: right;\n",
       "    }\n",
       "</style>\n",
       "<table border=\"1\" class=\"dataframe\">\n",
       "  <thead>\n",
       "    <tr style=\"text-align: right;\">\n",
       "      <th></th>\n",
       "      <th>Landing</th>\n",
       "      <th>Date</th>\n",
       "      <th>Boat</th>\n",
       "      <th>Trip Type</th>\n",
       "      <th>Anglers</th>\n",
       "      <th>Fish Count</th>\n",
       "    </tr>\n",
       "  </thead>\n",
       "  <tbody>\n",
       "    <tr>\n",
       "      <th>0</th>\n",
       "      <td>daveys-locker</td>\n",
       "      <td>2019-01-11</td>\n",
       "      <td>Western Pride</td>\n",
       "      <td>1/2 Day PM</td>\n",
       "      <td>35</td>\n",
       "      <td>38 Sand Bass, 16 Sculpin, 10 Blacksmith</td>\n",
       "    </tr>\n",
       "    <tr>\n",
       "      <th>1</th>\n",
       "      <td>daveys-locker</td>\n",
       "      <td>2019-01-12</td>\n",
       "      <td>Western Pride</td>\n",
       "      <td>1/2 Day Twilight</td>\n",
       "      <td>66</td>\n",
       "      <td>138 Sculpin, 28 Sand Bass</td>\n",
       "    </tr>\n",
       "    <tr>\n",
       "      <th>2</th>\n",
       "      <td>daveys-locker</td>\n",
       "      <td>2019-01-19</td>\n",
       "      <td>Western Pride</td>\n",
       "      <td>1/2 Day AM</td>\n",
       "      <td>76</td>\n",
       "      <td>150 Sculpin Released, 102 Sculpin, 40 Sanddab</td>\n",
       "    </tr>\n",
       "    <tr>\n",
       "      <th>3</th>\n",
       "      <td>daveys-locker</td>\n",
       "      <td>2019-01-19</td>\n",
       "      <td>Western Pride</td>\n",
       "      <td>1/2 Day Twilight</td>\n",
       "      <td>67</td>\n",
       "      <td>156 Sculpin, 29 Sand Bass, 5 Black Croaker, 3 ...</td>\n",
       "    </tr>\n",
       "    <tr>\n",
       "      <th>4</th>\n",
       "      <td>daveys-locker</td>\n",
       "      <td>2019-01-20</td>\n",
       "      <td>Western Pride</td>\n",
       "      <td>1/2 Day AM</td>\n",
       "      <td>62</td>\n",
       "      <td>161 Sculpin</td>\n",
       "    </tr>\n",
       "  </tbody>\n",
       "</table>\n",
       "</div>"
      ],
      "text/plain": [
       "         Landing        Date           Boat         Trip Type Anglers  \\\n",
       "0  daveys-locker  2019-01-11  Western Pride        1/2 Day PM      35   \n",
       "1  daveys-locker  2019-01-12  Western Pride  1/2 Day Twilight      66   \n",
       "2  daveys-locker  2019-01-19  Western Pride        1/2 Day AM      76   \n",
       "3  daveys-locker  2019-01-19  Western Pride  1/2 Day Twilight      67   \n",
       "4  daveys-locker  2019-01-20  Western Pride        1/2 Day AM      62   \n",
       "\n",
       "                                          Fish Count  \n",
       "0            38 Sand Bass, 16 Sculpin, 10 Blacksmith  \n",
       "1                          138 Sculpin, 28 Sand Bass  \n",
       "2      150 Sculpin Released, 102 Sculpin, 40 Sanddab  \n",
       "3  156 Sculpin, 29 Sand Bass, 5 Black Croaker, 3 ...  \n",
       "4                                        161 Sculpin  "
      ]
     },
     "execution_count": 5,
     "metadata": {},
     "output_type": "execute_result"
    }
   ],
   "source": [
    "df.head()"
   ]
  },
  {
   "cell_type": "code",
   "execution_count": 6,
   "metadata": {},
   "outputs": [],
   "source": [
    "df.to_csv(\"Data/fishCounts.csv\")"
   ]
  },
  {
   "cell_type": "code",
   "execution_count": null,
   "metadata": {},
   "outputs": [],
   "source": []
  }
 ],
 "metadata": {
  "kernelspec": {
   "display_name": "Python 3",
   "language": "python",
   "name": "python3"
  },
  "language_info": {
   "codemirror_mode": {
    "name": "ipython",
    "version": 3
   },
   "file_extension": ".py",
   "mimetype": "text/x-python",
   "name": "python",
   "nbconvert_exporter": "python",
   "pygments_lexer": "ipython3",
   "version": "3.8.3"
  }
 },
 "nbformat": 4,
 "nbformat_minor": 2
}
